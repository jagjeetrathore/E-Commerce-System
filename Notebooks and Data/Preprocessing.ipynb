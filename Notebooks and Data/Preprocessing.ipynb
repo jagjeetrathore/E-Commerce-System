{
  "nbformat": 4,
  "nbformat_minor": 5,
  "metadata": {
    "kernelspec": {
      "display_name": "Python 3",
      "language": "python",
      "name": "python3"
    },
    "language_info": {
      "codemirror_mode": {
        "name": "ipython",
        "version": 3
      },
      "file_extension": ".py",
      "mimetype": "text/x-python",
      "name": "python",
      "nbconvert_exporter": "python",
      "pygments_lexer": "ipython3",
      "version": "3.8.8"
    },
    "colab": {
      "name": "Preprocessing.ipynb",
      "provenance": []
    }
  },
  "cells": [
    {
      "cell_type": "code",
      "metadata": {
        "id": "N2IOG36UKqvn"
      },
      "source": [
        "# IMPORTS\n",
        "\n",
        "# add the install flags\n",
        "#!pip install openpyxl\n",
        "#!pip install xlrd\n",
        "#!pip install xlsxwriter\n",
        "#!pip install xlwt\n"
      ],
      "id": "N2IOG36UKqvn",
      "execution_count": 51,
      "outputs": []
    },
    {
      "cell_type": "code",
      "metadata": {
        "tags": [],
        "id": "numerous-snowboard"
      },
      "source": [
        "# import Libraries\n",
        "import numpy as np\n",
        "import pandas as pd\n",
        "import matplotlib as mpl\n",
        "import matplotlib.pyplot as plt\n",
        "import re\n",
        "import time, datetime\n",
        "\n",
        "# warnings\n",
        "import warnings\n",
        "warnings.filterwarnings('ignore')"
      ],
      "id": "numerous-snowboard",
      "execution_count": 1,
      "outputs": []
    },
    {
      "cell_type": "markdown",
      "metadata": {
        "id": "therapeutic-guide"
      },
      "source": [
        "#### Data Load"
      ],
      "id": "therapeutic-guide"
    },
    {
      "cell_type": "code",
      "metadata": {
        "colab": {
          "base_uri": "https://localhost:8080/"
        },
        "id": "common-texas",
        "outputId": "a4cd4ff1-92de-4756-9268-9e6f5f889b01"
      },
      "source": [
        "retail_original = pd.read_excel('/content/Online Retail.xlsx', dtype={'CustomerID': str,'InvoiceNo': str})\n",
        "retail_original.columns"
      ],
      "id": "common-texas",
      "execution_count": 4,
      "outputs": [
        {
          "output_type": "execute_result",
          "data": {
            "text/plain": [
              "Index(['InvoiceNo', 'StockCode', 'Description', 'Quantity', 'InvoiceDate',\n",
              "       'UnitPrice', 'CustomerID', 'Country'],\n",
              "      dtype='object')"
            ]
          },
          "metadata": {
            "tags": []
          },
          "execution_count": 4
        }
      ]
    },
    {
      "cell_type": "markdown",
      "metadata": {
        "id": "junior-finish"
      },
      "source": [
        "#### Globals"
      ],
      "id": "junior-finish"
    },
    {
      "cell_type": "code",
      "metadata": {
        "id": "first-condition"
      },
      "source": [
        "\n",
        "random_state = 0\n",
        "#\n",
        "# countries\n",
        "country_filter = []\n",
        "#country_filter = ['United Kingdom'] #United Kingdom is the country that contributes the most to this dataset. May explore other countries after..\n",
        "#country_filter = ['United Kingdom','Germany','France','EIRE']\n",
        "#\n",
        "# drop/include duplicates\n",
        "drop_duplicates = 1 # set to 0 to include\n",
        "#"
      ],
      "id": "first-condition",
      "execution_count": 7,
      "outputs": []
    },
    {
      "cell_type": "markdown",
      "metadata": {
        "id": "organized-picking"
      },
      "source": [
        "#### Functions"
      ],
      "id": "organized-picking"
    },
    {
      "cell_type": "code",
      "metadata": {
        "id": "genuine-mainstream"
      },
      "source": [
        "# display null counts and % for df\n",
        "def display_info(df):\n",
        "    df_info=pd.DataFrame(df.dtypes).T.rename(index={0:'column type'})\n",
        "    df_info=df_info.append(pd.DataFrame(df.isnull().sum()).T.rename(index={0:'null values (nb)'}))\n",
        "    df_info=df_info.append(pd.DataFrame(df.isnull().sum()/df.shape[0]*100).T.rename(index={0:'null values (%)'}))\n",
        "    display(df_info)\n",
        "    display(df.sample(5, random_state=random_state))\n",
        "    print(df.shape)"
      ],
      "id": "genuine-mainstream",
      "execution_count": 8,
      "outputs": []
    },
    {
      "cell_type": "markdown",
      "metadata": {
        "id": "surrounded-charm"
      },
      "source": [
        "#### Explore"
      ],
      "id": "surrounded-charm"
    },
    {
      "cell_type": "code",
      "metadata": {
        "colab": {
          "base_uri": "https://localhost:8080/",
          "height": 343
        },
        "id": "royal-setting",
        "outputId": "cef4e3e7-d54b-4e8c-9d1f-c35af529b968"
      },
      "source": [
        "# gives some infos on columns types and numer of null values\n",
        "display_info(retail_original)"
      ],
      "id": "royal-setting",
      "execution_count": 9,
      "outputs": [
        {
          "output_type": "display_data",
          "data": {
            "text/html": [
              "<div>\n",
              "<style scoped>\n",
              "    .dataframe tbody tr th:only-of-type {\n",
              "        vertical-align: middle;\n",
              "    }\n",
              "\n",
              "    .dataframe tbody tr th {\n",
              "        vertical-align: top;\n",
              "    }\n",
              "\n",
              "    .dataframe thead th {\n",
              "        text-align: right;\n",
              "    }\n",
              "</style>\n",
              "<table border=\"1\" class=\"dataframe\">\n",
              "  <thead>\n",
              "    <tr style=\"text-align: right;\">\n",
              "      <th></th>\n",
              "      <th>InvoiceNo</th>\n",
              "      <th>StockCode</th>\n",
              "      <th>Description</th>\n",
              "      <th>Quantity</th>\n",
              "      <th>InvoiceDate</th>\n",
              "      <th>UnitPrice</th>\n",
              "      <th>CustomerID</th>\n",
              "      <th>Country</th>\n",
              "    </tr>\n",
              "  </thead>\n",
              "  <tbody>\n",
              "    <tr>\n",
              "      <th>column type</th>\n",
              "      <td>object</td>\n",
              "      <td>object</td>\n",
              "      <td>object</td>\n",
              "      <td>int64</td>\n",
              "      <td>datetime64[ns]</td>\n",
              "      <td>float64</td>\n",
              "      <td>object</td>\n",
              "      <td>object</td>\n",
              "    </tr>\n",
              "    <tr>\n",
              "      <th>null values (nb)</th>\n",
              "      <td>0</td>\n",
              "      <td>0</td>\n",
              "      <td>1454</td>\n",
              "      <td>0</td>\n",
              "      <td>0</td>\n",
              "      <td>0</td>\n",
              "      <td>135080</td>\n",
              "      <td>0</td>\n",
              "    </tr>\n",
              "    <tr>\n",
              "      <th>null values (%)</th>\n",
              "      <td>0</td>\n",
              "      <td>0</td>\n",
              "      <td>0.268311</td>\n",
              "      <td>0</td>\n",
              "      <td>0</td>\n",
              "      <td>0</td>\n",
              "      <td>24.9267</td>\n",
              "      <td>0</td>\n",
              "    </tr>\n",
              "  </tbody>\n",
              "</table>\n",
              "</div>"
            ],
            "text/plain": [
              "                 InvoiceNo StockCode Description  ... UnitPrice CustomerID Country\n",
              "column type         object    object      object  ...   float64     object  object\n",
              "null values (nb)         0         0        1454  ...         0     135080       0\n",
              "null values (%)          0         0    0.268311  ...         0    24.9267       0\n",
              "\n",
              "[3 rows x 8 columns]"
            ]
          },
          "metadata": {
            "tags": []
          }
        },
        {
          "output_type": "display_data",
          "data": {
            "text/html": [
              "<div>\n",
              "<style scoped>\n",
              "    .dataframe tbody tr th:only-of-type {\n",
              "        vertical-align: middle;\n",
              "    }\n",
              "\n",
              "    .dataframe tbody tr th {\n",
              "        vertical-align: top;\n",
              "    }\n",
              "\n",
              "    .dataframe thead th {\n",
              "        text-align: right;\n",
              "    }\n",
              "</style>\n",
              "<table border=\"1\" class=\"dataframe\">\n",
              "  <thead>\n",
              "    <tr style=\"text-align: right;\">\n",
              "      <th></th>\n",
              "      <th>InvoiceNo</th>\n",
              "      <th>StockCode</th>\n",
              "      <th>Description</th>\n",
              "      <th>Quantity</th>\n",
              "      <th>InvoiceDate</th>\n",
              "      <th>UnitPrice</th>\n",
              "      <th>CustomerID</th>\n",
              "      <th>Country</th>\n",
              "    </tr>\n",
              "  </thead>\n",
              "  <tbody>\n",
              "    <tr>\n",
              "      <th>387967</th>\n",
              "      <td>570410</td>\n",
              "      <td>22396</td>\n",
              "      <td>MAGNETS PACK OF 4 RETRO PHOTO</td>\n",
              "      <td>1</td>\n",
              "      <td>2011-10-10 13:04:00</td>\n",
              "      <td>0.39</td>\n",
              "      <td>16776</td>\n",
              "      <td>United Kingdom</td>\n",
              "    </tr>\n",
              "    <tr>\n",
              "      <th>510721</th>\n",
              "      <td>579467</td>\n",
              "      <td>23560</td>\n",
              "      <td>SET OF 6 RIBBONS COUNTRY STYLE</td>\n",
              "      <td>6</td>\n",
              "      <td>2011-11-29 14:57:00</td>\n",
              "      <td>2.89</td>\n",
              "      <td>15755</td>\n",
              "      <td>United Kingdom</td>\n",
              "    </tr>\n",
              "    <tr>\n",
              "      <th>416072</th>\n",
              "      <td>572550</td>\n",
              "      <td>23567</td>\n",
              "      <td>EGG CUP HENRIETTA HEN PINK</td>\n",
              "      <td>1</td>\n",
              "      <td>2011-10-24 17:06:00</td>\n",
              "      <td>2.46</td>\n",
              "      <td>NaN</td>\n",
              "      <td>United Kingdom</td>\n",
              "    </tr>\n",
              "    <tr>\n",
              "      <th>437992</th>\n",
              "      <td>574301</td>\n",
              "      <td>20749</td>\n",
              "      <td>ASSORTED COLOUR MINI CASES</td>\n",
              "      <td>4</td>\n",
              "      <td>2011-11-03 16:15:00</td>\n",
              "      <td>7.95</td>\n",
              "      <td>12544</td>\n",
              "      <td>Spain</td>\n",
              "    </tr>\n",
              "    <tr>\n",
              "      <th>166468</th>\n",
              "      <td>550921</td>\n",
              "      <td>21977</td>\n",
              "      <td>PACK OF 60 PINK PAISLEY CAKE CASES</td>\n",
              "      <td>24</td>\n",
              "      <td>2011-04-21 14:21:00</td>\n",
              "      <td>0.55</td>\n",
              "      <td>14770</td>\n",
              "      <td>United Kingdom</td>\n",
              "    </tr>\n",
              "  </tbody>\n",
              "</table>\n",
              "</div>"
            ],
            "text/plain": [
              "       InvoiceNo StockCode  ... CustomerID         Country\n",
              "387967    570410     22396  ...      16776  United Kingdom\n",
              "510721    579467     23560  ...      15755  United Kingdom\n",
              "416072    572550     23567  ...        NaN  United Kingdom\n",
              "437992    574301     20749  ...      12544           Spain\n",
              "166468    550921     21977  ...      14770  United Kingdom\n",
              "\n",
              "[5 rows x 8 columns]"
            ]
          },
          "metadata": {
            "tags": []
          }
        },
        {
          "output_type": "stream",
          "text": [
            "(541909, 8)\n"
          ],
          "name": "stdout"
        }
      ]
    },
    {
      "cell_type": "code",
      "metadata": {
        "colab": {
          "base_uri": "https://localhost:8080/",
          "height": 343
        },
        "id": "bored-jewel",
        "outputId": "a51b4e7e-121c-4a3d-8bf8-7da571cfdfc3"
      },
      "source": [
        "# better to drop na here, its a rabbit hole to impute the null values\n",
        "retail_original.dropna(inplace=True)\n",
        "display_info(retail_original)"
      ],
      "id": "bored-jewel",
      "execution_count": 10,
      "outputs": [
        {
          "output_type": "display_data",
          "data": {
            "text/html": [
              "<div>\n",
              "<style scoped>\n",
              "    .dataframe tbody tr th:only-of-type {\n",
              "        vertical-align: middle;\n",
              "    }\n",
              "\n",
              "    .dataframe tbody tr th {\n",
              "        vertical-align: top;\n",
              "    }\n",
              "\n",
              "    .dataframe thead th {\n",
              "        text-align: right;\n",
              "    }\n",
              "</style>\n",
              "<table border=\"1\" class=\"dataframe\">\n",
              "  <thead>\n",
              "    <tr style=\"text-align: right;\">\n",
              "      <th></th>\n",
              "      <th>InvoiceNo</th>\n",
              "      <th>StockCode</th>\n",
              "      <th>Description</th>\n",
              "      <th>Quantity</th>\n",
              "      <th>InvoiceDate</th>\n",
              "      <th>UnitPrice</th>\n",
              "      <th>CustomerID</th>\n",
              "      <th>Country</th>\n",
              "    </tr>\n",
              "  </thead>\n",
              "  <tbody>\n",
              "    <tr>\n",
              "      <th>column type</th>\n",
              "      <td>object</td>\n",
              "      <td>object</td>\n",
              "      <td>object</td>\n",
              "      <td>int64</td>\n",
              "      <td>datetime64[ns]</td>\n",
              "      <td>float64</td>\n",
              "      <td>object</td>\n",
              "      <td>object</td>\n",
              "    </tr>\n",
              "    <tr>\n",
              "      <th>null values (nb)</th>\n",
              "      <td>0</td>\n",
              "      <td>0</td>\n",
              "      <td>0</td>\n",
              "      <td>0</td>\n",
              "      <td>0</td>\n",
              "      <td>0</td>\n",
              "      <td>0</td>\n",
              "      <td>0</td>\n",
              "    </tr>\n",
              "    <tr>\n",
              "      <th>null values (%)</th>\n",
              "      <td>0</td>\n",
              "      <td>0</td>\n",
              "      <td>0</td>\n",
              "      <td>0</td>\n",
              "      <td>0</td>\n",
              "      <td>0</td>\n",
              "      <td>0</td>\n",
              "      <td>0</td>\n",
              "    </tr>\n",
              "  </tbody>\n",
              "</table>\n",
              "</div>"
            ],
            "text/plain": [
              "                 InvoiceNo StockCode Description  ... UnitPrice CustomerID Country\n",
              "column type         object    object      object  ...   float64     object  object\n",
              "null values (nb)         0         0           0  ...         0          0       0\n",
              "null values (%)          0         0           0  ...         0          0       0\n",
              "\n",
              "[3 rows x 8 columns]"
            ]
          },
          "metadata": {
            "tags": []
          }
        },
        {
          "output_type": "display_data",
          "data": {
            "text/html": [
              "<div>\n",
              "<style scoped>\n",
              "    .dataframe tbody tr th:only-of-type {\n",
              "        vertical-align: middle;\n",
              "    }\n",
              "\n",
              "    .dataframe tbody tr th {\n",
              "        vertical-align: top;\n",
              "    }\n",
              "\n",
              "    .dataframe thead th {\n",
              "        text-align: right;\n",
              "    }\n",
              "</style>\n",
              "<table border=\"1\" class=\"dataframe\">\n",
              "  <thead>\n",
              "    <tr style=\"text-align: right;\">\n",
              "      <th></th>\n",
              "      <th>InvoiceNo</th>\n",
              "      <th>StockCode</th>\n",
              "      <th>Description</th>\n",
              "      <th>Quantity</th>\n",
              "      <th>InvoiceDate</th>\n",
              "      <th>UnitPrice</th>\n",
              "      <th>CustomerID</th>\n",
              "      <th>Country</th>\n",
              "    </tr>\n",
              "  </thead>\n",
              "  <tbody>\n",
              "    <tr>\n",
              "      <th>209444</th>\n",
              "      <td>555240</td>\n",
              "      <td>20727</td>\n",
              "      <td>LUNCH BAG  BLACK SKULL.</td>\n",
              "      <td>3</td>\n",
              "      <td>2011-06-01 13:07:00</td>\n",
              "      <td>1.65</td>\n",
              "      <td>15039</td>\n",
              "      <td>United Kingdom</td>\n",
              "    </tr>\n",
              "    <tr>\n",
              "      <th>389683</th>\n",
              "      <td>570488</td>\n",
              "      <td>21739</td>\n",
              "      <td>COSY SLIPPER SHOES SMALL GREEN</td>\n",
              "      <td>2</td>\n",
              "      <td>2011-10-10 17:12:00</td>\n",
              "      <td>2.46</td>\n",
              "      <td>14096</td>\n",
              "      <td>United Kingdom</td>\n",
              "    </tr>\n",
              "    <tr>\n",
              "      <th>184515</th>\n",
              "      <td>552694</td>\n",
              "      <td>22938</td>\n",
              "      <td>CUPCAKE LACE PAPER SET 6</td>\n",
              "      <td>12</td>\n",
              "      <td>2011-05-10 15:25:00</td>\n",
              "      <td>1.95</td>\n",
              "      <td>12749</td>\n",
              "      <td>United Kingdom</td>\n",
              "    </tr>\n",
              "    <tr>\n",
              "      <th>98089</th>\n",
              "      <td>544667</td>\n",
              "      <td>22896</td>\n",
              "      <td>PEG BAG APPLES DESIGN</td>\n",
              "      <td>50</td>\n",
              "      <td>2011-02-22 15:10:00</td>\n",
              "      <td>2.10</td>\n",
              "      <td>17511</td>\n",
              "      <td>United Kingdom</td>\n",
              "    </tr>\n",
              "    <tr>\n",
              "      <th>268149</th>\n",
              "      <td>560392</td>\n",
              "      <td>15034</td>\n",
              "      <td>PAPER POCKET TRAVELING FAN</td>\n",
              "      <td>96</td>\n",
              "      <td>2011-07-18 13:30:00</td>\n",
              "      <td>0.14</td>\n",
              "      <td>13911</td>\n",
              "      <td>United Kingdom</td>\n",
              "    </tr>\n",
              "  </tbody>\n",
              "</table>\n",
              "</div>"
            ],
            "text/plain": [
              "       InvoiceNo StockCode  ... CustomerID         Country\n",
              "209444    555240     20727  ...      15039  United Kingdom\n",
              "389683    570488     21739  ...      14096  United Kingdom\n",
              "184515    552694     22938  ...      12749  United Kingdom\n",
              "98089     544667     22896  ...      17511  United Kingdom\n",
              "268149    560392     15034  ...      13911  United Kingdom\n",
              "\n",
              "[5 rows x 8 columns]"
            ]
          },
          "metadata": {
            "tags": []
          }
        },
        {
          "output_type": "stream",
          "text": [
            "(406829, 8)\n"
          ],
          "name": "stdout"
        }
      ]
    },
    {
      "cell_type": "code",
      "metadata": {
        "colab": {
          "base_uri": "https://localhost:8080/",
          "height": 488
        },
        "id": "paperback-accident",
        "outputId": "8691b49b-bed8-4993-e8b2-81b4919c60a1"
      },
      "source": [
        "# Invoice counts by countries..\n",
        "print(retail_original.drop_duplicates(subset=['Country','InvoiceNo']).Country.value_counts()[:10])\n",
        "retail_original.drop_duplicates(subset=['Country','InvoiceNo']).Country.value_counts()[:10].plot(kind='barh', color = 'm')\n",
        "plt.title(\"Top 10 Countries by InvoiceNo\",weight = 'bold', size = 15)\n",
        "plt.xlabel('InvoiceCount')\n",
        "plt.show()"
      ],
      "id": "paperback-accident",
      "execution_count": 25,
      "outputs": [
        {
          "output_type": "stream",
          "text": [
            "United Kingdom    19857\n",
            "Germany             603\n",
            "France              458\n",
            "EIRE                319\n",
            "Belgium             119\n",
            "Spain               105\n",
            "Netherlands         101\n",
            "Switzerland          71\n",
            "Portugal             70\n",
            "Australia            69\n",
            "Name: Country, dtype: int64\n"
          ],
          "name": "stdout"
        },
        {
          "output_type": "display_data",
          "data": {
            "image/png": "[encoded data removed]",
            "text/plain": [
              "<Figure size 432x288 with 1 Axes>"
            ]
          },
          "metadata": {
            "tags": [],
            "needs_background": "light"
          }
        }
      ]
    },
    {
      "cell_type": "markdown",
      "metadata": {
        "id": "resistant-sleeping"
      },
      "source": [
        "**FILTERS**"
      ],
      "id": "resistant-sleeping"
    },
    {
      "cell_type": "code",
      "metadata": {
        "tags": [],
        "colab": {
          "base_uri": "https://localhost:8080/"
        },
        "id": "chinese-white",
        "outputId": "77ad5e14-f98c-45c6-ae2b-7bf711bacb07"
      },
      "source": [
        "# Show selected countries\n",
        "print('Countries filtered: {}'.format(country_filter))\n",
        "\n",
        "## Apply filters\n",
        "# countries\n",
        "if len(country_filter) > 0:\n",
        "    retail_norm = retail_original.loc[retail_original['Country'].isin(country_filter)]\n",
        "else:\n",
        "    retail_norm = retail_original.copy()\n",
        "    \n",
        "# how many duplicate values? should we drop them from a transactional system or no?\n",
        "print('Possible duplicates: {}'.format(retail_norm.duplicated().sum()))\n",
        "\n",
        "# duplicates\n",
        "if drop_duplicates == 1:\n",
        "    retail_norm = retail_norm.drop_duplicates()\n",
        "else:\n",
        "    retail_norm = retail_norm.copy()"
      ],
      "id": "chinese-white",
      "execution_count": 26,
      "outputs": [
        {
          "output_type": "stream",
          "text": [
            "Countries filtered: []\n",
            "Possible duplicates: 5225\n"
          ],
          "name": "stdout"
        }
      ]
    },
    {
      "cell_type": "code",
      "metadata": {
        "tags": [],
        "colab": {
          "base_uri": "https://localhost:8080/",
          "height": 343
        },
        "id": "understood-woman",
        "outputId": "fcb6f71f-030a-4956-8848-dc0b8c1cd8c9"
      },
      "source": [
        "display_info(retail_norm)"
      ],
      "id": "understood-woman",
      "execution_count": 27,
      "outputs": [
        {
          "output_type": "display_data",
          "data": {
            "text/html": [
              "<div>\n",
              "<style scoped>\n",
              "    .dataframe tbody tr th:only-of-type {\n",
              "        vertical-align: middle;\n",
              "    }\n",
              "\n",
              "    .dataframe tbody tr th {\n",
              "        vertical-align: top;\n",
              "    }\n",
              "\n",
              "    .dataframe thead th {\n",
              "        text-align: right;\n",
              "    }\n",
              "</style>\n",
              "<table border=\"1\" class=\"dataframe\">\n",
              "  <thead>\n",
              "    <tr style=\"text-align: right;\">\n",
              "      <th></th>\n",
              "      <th>InvoiceNo</th>\n",
              "      <th>StockCode</th>\n",
              "      <th>Description</th>\n",
              "      <th>Quantity</th>\n",
              "      <th>InvoiceDate</th>\n",
              "      <th>UnitPrice</th>\n",
              "      <th>CustomerID</th>\n",
              "      <th>Country</th>\n",
              "    </tr>\n",
              "  </thead>\n",
              "  <tbody>\n",
              "    <tr>\n",
              "      <th>column type</th>\n",
              "      <td>object</td>\n",
              "      <td>object</td>\n",
              "      <td>object</td>\n",
              "      <td>int64</td>\n",
              "      <td>datetime64[ns]</td>\n",
              "      <td>float64</td>\n",
              "      <td>object</td>\n",
              "      <td>object</td>\n",
              "    </tr>\n",
              "    <tr>\n",
              "      <th>null values (nb)</th>\n",
              "      <td>0</td>\n",
              "      <td>0</td>\n",
              "      <td>0</td>\n",
              "      <td>0</td>\n",
              "      <td>0</td>\n",
              "      <td>0</td>\n",
              "      <td>0</td>\n",
              "      <td>0</td>\n",
              "    </tr>\n",
              "    <tr>\n",
              "      <th>null values (%)</th>\n",
              "      <td>0</td>\n",
              "      <td>0</td>\n",
              "      <td>0</td>\n",
              "      <td>0</td>\n",
              "      <td>0</td>\n",
              "      <td>0</td>\n",
              "      <td>0</td>\n",
              "      <td>0</td>\n",
              "    </tr>\n",
              "  </tbody>\n",
              "</table>\n",
              "</div>"
            ],
            "text/plain": [
              "                 InvoiceNo StockCode Description  ... UnitPrice CustomerID Country\n",
              "column type         object    object      object  ...   float64     object  object\n",
              "null values (nb)         0         0           0  ...         0          0       0\n",
              "null values (%)          0         0           0  ...         0          0       0\n",
              "\n",
              "[3 rows x 8 columns]"
            ]
          },
          "metadata": {
            "tags": []
          }
        },
        {
          "output_type": "display_data",
          "data": {
            "text/html": [
              "<div>\n",
              "<style scoped>\n",
              "    .dataframe tbody tr th:only-of-type {\n",
              "        vertical-align: middle;\n",
              "    }\n",
              "\n",
              "    .dataframe tbody tr th {\n",
              "        vertical-align: top;\n",
              "    }\n",
              "\n",
              "    .dataframe thead th {\n",
              "        text-align: right;\n",
              "    }\n",
              "</style>\n",
              "<table border=\"1\" class=\"dataframe\">\n",
              "  <thead>\n",
              "    <tr style=\"text-align: right;\">\n",
              "      <th></th>\n",
              "      <th>InvoiceNo</th>\n",
              "      <th>StockCode</th>\n",
              "      <th>Description</th>\n",
              "      <th>Quantity</th>\n",
              "      <th>InvoiceDate</th>\n",
              "      <th>UnitPrice</th>\n",
              "      <th>CustomerID</th>\n",
              "      <th>Country</th>\n",
              "    </tr>\n",
              "  </thead>\n",
              "  <tbody>\n",
              "    <tr>\n",
              "      <th>512818</th>\n",
              "      <td>579516</td>\n",
              "      <td>22326</td>\n",
              "      <td>ROUND SNACK BOXES SET OF4 WOODLAND</td>\n",
              "      <td>1</td>\n",
              "      <td>2011-11-29 17:52:00</td>\n",
              "      <td>2.95</td>\n",
              "      <td>17841</td>\n",
              "      <td>United Kingdom</td>\n",
              "    </tr>\n",
              "    <tr>\n",
              "      <th>266107</th>\n",
              "      <td>560244</td>\n",
              "      <td>82581</td>\n",
              "      <td>TOILET METAL SIGN</td>\n",
              "      <td>3</td>\n",
              "      <td>2011-07-17 12:14:00</td>\n",
              "      <td>0.55</td>\n",
              "      <td>16931</td>\n",
              "      <td>United Kingdom</td>\n",
              "    </tr>\n",
              "    <tr>\n",
              "      <th>419372</th>\n",
              "      <td>572772</td>\n",
              "      <td>23313</td>\n",
              "      <td>VINTAGE CHRISTMAS BUNTING</td>\n",
              "      <td>5</td>\n",
              "      <td>2011-10-26 10:29:00</td>\n",
              "      <td>4.95</td>\n",
              "      <td>17511</td>\n",
              "      <td>United Kingdom</td>\n",
              "    </tr>\n",
              "    <tr>\n",
              "      <th>387383</th>\n",
              "      <td>570287</td>\n",
              "      <td>23247</td>\n",
              "      <td>BISCUIT TIN 50'S CHRISTMAS</td>\n",
              "      <td>6</td>\n",
              "      <td>2011-10-10 11:37:00</td>\n",
              "      <td>2.89</td>\n",
              "      <td>17425</td>\n",
              "      <td>United Kingdom</td>\n",
              "    </tr>\n",
              "    <tr>\n",
              "      <th>506771</th>\n",
              "      <td>579154</td>\n",
              "      <td>21481</td>\n",
              "      <td>FAWN BLUE HOT WATER BOTTLE</td>\n",
              "      <td>2</td>\n",
              "      <td>2011-11-28 13:27:00</td>\n",
              "      <td>3.75</td>\n",
              "      <td>17218</td>\n",
              "      <td>United Kingdom</td>\n",
              "    </tr>\n",
              "  </tbody>\n",
              "</table>\n",
              "</div>"
            ],
            "text/plain": [
              "       InvoiceNo StockCode  ... CustomerID         Country\n",
              "512818    579516     22326  ...      17841  United Kingdom\n",
              "266107    560244     82581  ...      16931  United Kingdom\n",
              "419372    572772     23313  ...      17511  United Kingdom\n",
              "387383    570287     23247  ...      17425  United Kingdom\n",
              "506771    579154     21481  ...      17218  United Kingdom\n",
              "\n",
              "[5 rows x 8 columns]"
            ]
          },
          "metadata": {
            "tags": []
          }
        },
        {
          "output_type": "stream",
          "text": [
            "(401604, 8)\n"
          ],
          "name": "stdout"
        }
      ]
    },
    {
      "cell_type": "markdown",
      "metadata": {
        "id": "streaming-desire"
      },
      "source": [
        "**Preprocessing**"
      ],
      "id": "streaming-desire"
    },
    {
      "cell_type": "markdown",
      "metadata": {
        "id": "confident-express"
      },
      "source": [
        "#### Inspect Totals"
      ],
      "id": "confident-express"
    },
    {
      "cell_type": "code",
      "metadata": {
        "tags": [],
        "colab": {
          "base_uri": "https://localhost:8080/",
          "height": 79
        },
        "id": "silent-genius",
        "outputId": "1970852f-864c-4318-caae-cc4f5e5d6bed"
      },
      "source": [
        "# total products/transactions/customers\n",
        "totals_df = pd.DataFrame([{'products': len(retail_norm['StockCode'].value_counts()),\n",
        "                           'transactions': len(retail_norm['InvoiceNo'].value_counts()),\n",
        "                           'customers': len(retail_norm['CustomerID'].value_counts()),}],\n",
        "                         columns = ['products', 'transactions', 'customers'],\n",
        "                         index = ['quantity'])\n",
        "\n",
        "display(totals_df)"
      ],
      "id": "silent-genius",
      "execution_count": 30,
      "outputs": [
        {
          "output_type": "display_data",
          "data": {
            "text/html": [
              "<div>\n",
              "<style scoped>\n",
              "    .dataframe tbody tr th:only-of-type {\n",
              "        vertical-align: middle;\n",
              "    }\n",
              "\n",
              "    .dataframe tbody tr th {\n",
              "        vertical-align: top;\n",
              "    }\n",
              "\n",
              "    .dataframe thead th {\n",
              "        text-align: right;\n",
              "    }\n",
              "</style>\n",
              "<table border=\"1\" class=\"dataframe\">\n",
              "  <thead>\n",
              "    <tr style=\"text-align: right;\">\n",
              "      <th></th>\n",
              "      <th>products</th>\n",
              "      <th>transactions</th>\n",
              "      <th>customers</th>\n",
              "    </tr>\n",
              "  </thead>\n",
              "  <tbody>\n",
              "    <tr>\n",
              "      <th>quantity</th>\n",
              "      <td>3684</td>\n",
              "      <td>22190</td>\n",
              "      <td>4372</td>\n",
              "    </tr>\n",
              "  </tbody>\n",
              "</table>\n",
              "</div>"
            ],
            "text/plain": [
              "          products  transactions  customers\n",
              "quantity      3684         22190       4372"
            ]
          },
          "metadata": {
            "tags": []
          }
        }
      ]
    },
    {
      "cell_type": "code",
      "metadata": {
        "tags": [],
        "colab": {
          "base_uri": "https://localhost:8080/",
          "height": 355
        },
        "id": "tutorial-guest",
        "outputId": "b1ef6c01-d0f6-4eb2-c259-ba0f5ba87a57"
      },
      "source": [
        "# Products per invoice\n",
        "tmp = retail_norm.groupby(by=['CustomerID', 'InvoiceNo'], as_index=False)['InvoiceDate'].count()\n",
        "products_per_invoice = tmp.rename(columns = {'InvoiceDate':'TotalProducts'})\n",
        "products_per_invoice[:10].sort_values('TotalProducts', ascending=False)"
      ],
      "id": "tutorial-guest",
      "execution_count": 31,
      "outputs": [
        {
          "output_type": "execute_result",
          "data": {
            "text/html": [
              "<div>\n",
              "<style scoped>\n",
              "    .dataframe tbody tr th:only-of-type {\n",
              "        vertical-align: middle;\n",
              "    }\n",
              "\n",
              "    .dataframe tbody tr th {\n",
              "        vertical-align: top;\n",
              "    }\n",
              "\n",
              "    .dataframe thead th {\n",
              "        text-align: right;\n",
              "    }\n",
              "</style>\n",
              "<table border=\"1\" class=\"dataframe\">\n",
              "  <thead>\n",
              "    <tr style=\"text-align: right;\">\n",
              "      <th></th>\n",
              "      <th>CustomerID</th>\n",
              "      <th>InvoiceNo</th>\n",
              "      <th>TotalProducts</th>\n",
              "    </tr>\n",
              "  </thead>\n",
              "  <tbody>\n",
              "    <tr>\n",
              "      <th>7</th>\n",
              "      <td>12347</td>\n",
              "      <td>573511</td>\n",
              "      <td>47</td>\n",
              "    </tr>\n",
              "    <tr>\n",
              "      <th>2</th>\n",
              "      <td>12347</td>\n",
              "      <td>537626</td>\n",
              "      <td>31</td>\n",
              "    </tr>\n",
              "    <tr>\n",
              "      <th>3</th>\n",
              "      <td>12347</td>\n",
              "      <td>542237</td>\n",
              "      <td>29</td>\n",
              "    </tr>\n",
              "    <tr>\n",
              "      <th>4</th>\n",
              "      <td>12347</td>\n",
              "      <td>549222</td>\n",
              "      <td>24</td>\n",
              "    </tr>\n",
              "    <tr>\n",
              "      <th>6</th>\n",
              "      <td>12347</td>\n",
              "      <td>562032</td>\n",
              "      <td>22</td>\n",
              "    </tr>\n",
              "    <tr>\n",
              "      <th>5</th>\n",
              "      <td>12347</td>\n",
              "      <td>556201</td>\n",
              "      <td>18</td>\n",
              "    </tr>\n",
              "    <tr>\n",
              "      <th>9</th>\n",
              "      <td>12348</td>\n",
              "      <td>539318</td>\n",
              "      <td>17</td>\n",
              "    </tr>\n",
              "    <tr>\n",
              "      <th>8</th>\n",
              "      <td>12347</td>\n",
              "      <td>581180</td>\n",
              "      <td>11</td>\n",
              "    </tr>\n",
              "    <tr>\n",
              "      <th>0</th>\n",
              "      <td>12346</td>\n",
              "      <td>541431</td>\n",
              "      <td>1</td>\n",
              "    </tr>\n",
              "    <tr>\n",
              "      <th>1</th>\n",
              "      <td>12346</td>\n",
              "      <td>C541433</td>\n",
              "      <td>1</td>\n",
              "    </tr>\n",
              "  </tbody>\n",
              "</table>\n",
              "</div>"
            ],
            "text/plain": [
              "  CustomerID InvoiceNo  TotalProducts\n",
              "7      12347    573511             47\n",
              "2      12347    537626             31\n",
              "3      12347    542237             29\n",
              "4      12347    549222             24\n",
              "6      12347    562032             22\n",
              "5      12347    556201             18\n",
              "9      12348    539318             17\n",
              "8      12347    581180             11\n",
              "0      12346    541431              1\n",
              "1      12346   C541433              1"
            ]
          },
          "metadata": {
            "tags": []
          },
          "execution_count": 31
        }
      ]
    },
    {
      "cell_type": "markdown",
      "metadata": {
        "id": "complimentary-budget"
      },
      "source": [
        "#### Flag and strip unwanted records"
      ],
      "id": "complimentary-budget"
    },
    {
      "cell_type": "markdown",
      "metadata": {
        "id": "friendly-cambridge"
      },
      "source": [
        "##### Cancelled Orders"
      ],
      "id": "friendly-cambridge"
    },
    {
      "cell_type": "code",
      "metadata": {
        "tags": [],
        "colab": {
          "base_uri": "https://localhost:8080/",
          "height": 219
        },
        "id": "educated-protest",
        "outputId": "a3f517ed-223d-41a8-ad1f-d4c92145246d"
      },
      "source": [
        "# number of cancelled orders\n",
        "products_per_invoice['order_cancelled'] = products_per_invoice['InvoiceNo'].apply(lambda x:int('C' in x))\n",
        "display(products_per_invoice[:5])\n",
        "#\n",
        "n1 = products_per_invoice['order_cancelled'].sum()\n",
        "n2 = products_per_invoice.shape[0]\n",
        "print('Number of cancelled orders: {}/{} ({:.2f}%) '.format(n1, n2, n1/n2*100))"
      ],
      "id": "educated-protest",
      "execution_count": 32,
      "outputs": [
        {
          "output_type": "display_data",
          "data": {
            "text/html": [
              "<div>\n",
              "<style scoped>\n",
              "    .dataframe tbody tr th:only-of-type {\n",
              "        vertical-align: middle;\n",
              "    }\n",
              "\n",
              "    .dataframe tbody tr th {\n",
              "        vertical-align: top;\n",
              "    }\n",
              "\n",
              "    .dataframe thead th {\n",
              "        text-align: right;\n",
              "    }\n",
              "</style>\n",
              "<table border=\"1\" class=\"dataframe\">\n",
              "  <thead>\n",
              "    <tr style=\"text-align: right;\">\n",
              "      <th></th>\n",
              "      <th>CustomerID</th>\n",
              "      <th>InvoiceNo</th>\n",
              "      <th>TotalProducts</th>\n",
              "      <th>order_cancelled</th>\n",
              "    </tr>\n",
              "  </thead>\n",
              "  <tbody>\n",
              "    <tr>\n",
              "      <th>0</th>\n",
              "      <td>12346</td>\n",
              "      <td>541431</td>\n",
              "      <td>1</td>\n",
              "      <td>0</td>\n",
              "    </tr>\n",
              "    <tr>\n",
              "      <th>1</th>\n",
              "      <td>12346</td>\n",
              "      <td>C541433</td>\n",
              "      <td>1</td>\n",
              "      <td>1</td>\n",
              "    </tr>\n",
              "    <tr>\n",
              "      <th>2</th>\n",
              "      <td>12347</td>\n",
              "      <td>537626</td>\n",
              "      <td>31</td>\n",
              "      <td>0</td>\n",
              "    </tr>\n",
              "    <tr>\n",
              "      <th>3</th>\n",
              "      <td>12347</td>\n",
              "      <td>542237</td>\n",
              "      <td>29</td>\n",
              "      <td>0</td>\n",
              "    </tr>\n",
              "    <tr>\n",
              "      <th>4</th>\n",
              "      <td>12347</td>\n",
              "      <td>549222</td>\n",
              "      <td>24</td>\n",
              "      <td>0</td>\n",
              "    </tr>\n",
              "  </tbody>\n",
              "</table>\n",
              "</div>"
            ],
            "text/plain": [
              "  CustomerID InvoiceNo  TotalProducts  order_cancelled\n",
              "0      12346    541431              1                0\n",
              "1      12346   C541433              1                1\n",
              "2      12347    537626             31                0\n",
              "3      12347    542237             29                0\n",
              "4      12347    549222             24                0"
            ]
          },
          "metadata": {
            "tags": []
          }
        },
        {
          "output_type": "stream",
          "text": [
            "Number of cancelled orders: 3654/22190 (16.47%) \n"
          ],
          "name": "stdout"
        }
      ]
    },
    {
      "cell_type": "code",
      "metadata": {
        "tags": [],
        "colab": {
          "base_uri": "https://localhost:8080/"
        },
        "id": "received-webmaster",
        "outputId": "686b2b8f-f225-42e5-a8f8-832632dc34e0"
      },
      "source": [
        "# validate cancelled orders (negative quantity) vs original order (positive quantity)\n",
        "df_tmp = retail_norm[retail_norm['Quantity'] < 0][['CustomerID','Quantity',\n",
        "                                                   'StockCode','Description','UnitPrice']]\n",
        "for index, col in  df_tmp.iterrows():\n",
        "    if retail_norm[(retail_norm['CustomerID'] == col[0]) & (retail_norm['Quantity'] == -col[1]) \n",
        "                & (retail_norm['Description'] == col[2])].shape[0] == 0: \n",
        "        print(df_tmp.loc[index])\n",
        "        print(7*'-'+'>'+' HYPOTHESIS NOT FULFILLED')\n",
        "        break"
      ],
      "id": "received-webmaster",
      "execution_count": 33,
      "outputs": [
        {
          "output_type": "stream",
          "text": [
            "CustomerID        14527\n",
            "Quantity             -1\n",
            "StockCode             D\n",
            "Description    Discount\n",
            "UnitPrice          27.5\n",
            "Name: 141, dtype: object\n",
            "-------> HYPOTHESIS NOT FULFILLED\n"
          ],
          "name": "stdout"
        }
      ]
    },
    {
      "cell_type": "code",
      "metadata": {
        "tags": [],
        "colab": {
          "base_uri": "https://localhost:8080/"
        },
        "id": "addressed-title",
        "outputId": "8e5f0bda-4fdb-4199-b9f0-e628a082f3e8"
      },
      "source": [
        "# validate cancelled orders (negative quantity) vs original order (positive quantity) but ignore discounts\n",
        "df_tmp = retail_norm[(retail_norm['Quantity'] < 0) & (retail_norm['Description'] != 'Discount')][\n",
        "                                 ['CustomerID','Quantity','StockCode',\n",
        "                                  'Description','UnitPrice']]\n",
        "\n",
        "for index, col in  df_tmp.iterrows():\n",
        "    if retail_norm[(retail_norm['CustomerID'] == col[0]) & (retail_norm['Quantity'] == -col[1]) \n",
        "                & (retail_norm['Description'] == col[2])].shape[0] == 0: \n",
        "        print(index, df_tmp.loc[index])\n",
        "        print(7*'-'+'>'+' HYPOTHESIS NOT FULFILLED')\n",
        "        break"
      ],
      "id": "addressed-title",
      "execution_count": 34,
      "outputs": [
        {
          "output_type": "stream",
          "text": [
            "154 CustomerID                               15311\n",
            "Quantity                                    -1\n",
            "StockCode                               35004C\n",
            "Description    SET OF 3 COLOURED  FLYING DUCKS\n",
            "UnitPrice                                 4.65\n",
            "Name: 154, dtype: object\n",
            "-------> HYPOTHESIS NOT FULFILLED\n"
          ],
          "name": "stdout"
        }
      ]
    },
    {
      "cell_type": "markdown",
      "metadata": {
        "tags": [],
        "id": "permanent-architect"
      },
      "source": [
        "##### First find Mismatched Cancelled Orders"
      ],
      "id": "permanent-architect"
    },
    {
      "cell_type": "code",
      "metadata": {
        "tags": [],
        "colab": {
          "base_uri": "https://localhost:8080/"
        },
        "id": "unable-extension",
        "outputId": "181bc093-4b3d-4b72-b33b-e00f8ec7e1b1"
      },
      "source": [
        "# first find mismatched cancelled orders, in case we drop them accidentally and can not obtain original order.\n",
        "retail_clean = retail_norm.copy()\n",
        "retail_clean['CancelledQuantity'] = 0\n",
        "#\n",
        "mismatched_cancelled_orders = []; mismatched_suspect_orders = []\n",
        "#\n",
        "start = time.time()\n",
        "for index, row in retail_clean.iterrows():\n",
        "    if ((row['Quantity'] < 0) and (row['Description'] != 'Discount') and re.match('^[a-zA-Z]+', row['InvoiceNo'])):\n",
        "        df_test = retail_clean[(retail_clean['CustomerID'] == row['CustomerID']) &\n",
        "                              (retail_clean['StockCode']  == row['StockCode']) & \n",
        "                              (retail_clean['InvoiceNo'] != row['InvoiceNo']) & \n",
        "                              (retail_clean['InvoiceDate'] < row['InvoiceDate']) & \n",
        "                              (retail_clean['Quantity'] > 0) &\n",
        "                              (abs(retail_clean['Quantity']) == abs(row['Quantity']))].copy()\n",
        "\n",
        "        #\n",
        "        # Cancelation WITHOUT counterpart\n",
        "        if (df_test.shape[0] == 0): \n",
        "            mismatched_suspect_orders.append(index)\n",
        "        #\n",
        "        # Cancelation WITH a counterpart\n",
        "        elif (df_test.shape[0] == 1): \n",
        "            index_order = df_test.index[0]\n",
        "            #retail_clean.loc[index_order, 'CancelledQuantity'] = -row['Quantity']\n",
        "            mismatched_cancelled_orders.append(index)\n",
        "            mismatched_cancelled_orders.append(index_order)\n",
        "        #\n",
        "        # Various counterparts exist in orders: we delete the last one\n",
        "        elif (df_test.shape[0] > 1):\n",
        "            df_test.sort_index(axis=0 ,ascending=False, inplace = True)\n",
        "            for ind, val in df_test.iterrows():\n",
        "                if val['Quantity'] < -row['Quantity']: continue\n",
        "                #retail_clean.loc[ind, 'CancelledQuantity'] = -row['Quantity']\n",
        "                mismatched_cancelled_orders.append(index) \n",
        "                break\n",
        "#\n",
        "end = time.time()\n",
        "print('Duration: {}'.format(datetime.timedelta(seconds = end-start)))\n",
        "print('mismatched_suspect_orders: {}'.format(len(mismatched_suspect_orders)))\n",
        "print('mismatched_cancelled_orders: {}'.format(len(mismatched_cancelled_orders)))"
      ],
      "id": "unable-extension",
      "execution_count": 35,
      "outputs": [
        {
          "output_type": "stream",
          "text": [
            "Duration: 0:11:30.686601\n",
            "mismatched_suspect_orders: 5879\n",
            "mismatched_cancelled_orders: 5192\n"
          ],
          "name": "stdout"
        }
      ]
    },
    {
      "cell_type": "code",
      "metadata": {
        "tags": [],
        "id": "genuine-wallace"
      },
      "source": [
        "# drop flagged entries\n",
        "retail_clean.drop(mismatched_cancelled_orders, axis = 0, inplace = True)\n",
        "\n",
        "# we can inspect these after to see if they exist..\n",
        "#retail_clean.drop(mismatched_suspect_orders, axis = 0, inplace = True)"
      ],
      "id": "genuine-wallace",
      "execution_count": 36,
      "outputs": []
    },
    {
      "cell_type": "markdown",
      "metadata": {
        "tags": [],
        "id": "extreme-storage"
      },
      "source": [
        "##### Cancelled Orders with Original Orders, and Cancelled Orders without"
      ],
      "id": "extreme-storage"
    },
    {
      "cell_type": "code",
      "metadata": {
        "tags": [],
        "colab": {
          "base_uri": "https://localhost:8080/"
        },
        "id": "increasing-federation",
        "outputId": "71002bfd-1a3a-49c6-c8f7-bbf6e2c3f85e"
      },
      "source": [
        "# flag cancelled orders without original order entry\n",
        "# flag cancelled orders with original order entry\n",
        "#\n",
        "drop_entry = [] ; suspect_entry = []\n",
        "#\n",
        "start = time.time()\n",
        "for index, col in retail_clean.iterrows():\n",
        "    if (col['Quantity'] > 0) or col['Description'] == 'Discount': continue        \n",
        "    df_test = retail_clean[(retail_clean['CustomerID'] == col['CustomerID']) &\n",
        "                         (retail_clean['StockCode']  == col['StockCode']) & \n",
        "                         (retail_clean['InvoiceDate'] < col['InvoiceDate']) & \n",
        "                         (retail_clean['Quantity']   > 0)].copy()\n",
        "    #\n",
        "    # Cancelation WITHOUT counterpart\n",
        "    if (df_test.shape[0] == 0): \n",
        "        suspect_entry.append(index)\n",
        "    #\n",
        "    # Cancelation WITH a counterpart\n",
        "    elif (df_test.shape[0] == 1): \n",
        "        index_order = df_test.index[0]\n",
        "        retail_clean.loc[index_order, 'CancelledQuantity'] = -col['Quantity']\n",
        "        drop_entry.append(index)        \n",
        "    #\n",
        "    # Various counterparts exist in orders: we delete the last one\n",
        "    elif (df_test.shape[0] > 1): \n",
        "        df_test.sort_index(axis=0 ,ascending=False, inplace = True)        \n",
        "        for ind, val in df_test.iterrows():\n",
        "            if val['Quantity'] < -col['Quantity']: continue\n",
        "            retail_clean.loc[ind, 'CancelledQuantity'] = -col['Quantity']\n",
        "            drop_entry.append(index) \n",
        "            break           \n",
        "#\n",
        "end = time.time()\n",
        "print('Duration: {}'.format(datetime.timedelta(seconds = end-start)))\n",
        "print('drop_entry: {}'.format(len(drop_entry)))\n",
        "print('suspect_entry: {}'.format(len(suspect_entry)))"
      ],
      "id": "increasing-federation",
      "execution_count": 37,
      "outputs": [
        {
          "output_type": "stream",
          "text": [
            "Duration: 0:05:43.623823\n",
            "drop_entry: 4591\n",
            "suspect_entry: 1240\n"
          ],
          "name": "stdout"
        }
      ]
    },
    {
      "cell_type": "code",
      "metadata": {
        "tags": [],
        "id": "flush-stuart"
      },
      "source": [
        "# drop flagged entries\n",
        "retail_clean.drop(drop_entry, axis = 0, inplace = True)\n",
        "retail_clean.drop(suspect_entry, axis = 0, inplace = True)"
      ],
      "id": "flush-stuart",
      "execution_count": 38,
      "outputs": []
    },
    {
      "cell_type": "markdown",
      "metadata": {
        "tags": [],
        "id": "academic-insight"
      },
      "source": [
        "##### Possibly Missed Entries"
      ],
      "id": "academic-insight"
    },
    {
      "cell_type": "code",
      "metadata": {
        "tags": [],
        "colab": {
          "base_uri": "https://localhost:8080/",
          "height": 219
        },
        "id": "progressive-marina",
        "outputId": "859a4ce0-5936-4293-9bbf-9e953123e496"
      },
      "source": [
        "# check again for cancelled entries that were possibly missed\n",
        "remaining_entries = retail_clean[(retail_clean['Quantity'] < 0) & (retail_clean['StockCode'] != 'D')]\n",
        "print('entries to delete: {}'.format(remaining_entries.shape[0]))\n",
        "\n",
        "#\n",
        "display(remaining_entries[:5])\n",
        "\n",
        "# drop these entries too\n",
        "retail_clean.drop(remaining_entries.index, axis = 0, inplace = True)"
      ],
      "id": "progressive-marina",
      "execution_count": 39,
      "outputs": [
        {
          "output_type": "stream",
          "text": [
            "entries to delete: 48\n"
          ],
          "name": "stdout"
        },
        {
          "output_type": "display_data",
          "data": {
            "text/html": [
              "<div>\n",
              "<style scoped>\n",
              "    .dataframe tbody tr th:only-of-type {\n",
              "        vertical-align: middle;\n",
              "    }\n",
              "\n",
              "    .dataframe tbody tr th {\n",
              "        vertical-align: top;\n",
              "    }\n",
              "\n",
              "    .dataframe thead th {\n",
              "        text-align: right;\n",
              "    }\n",
              "</style>\n",
              "<table border=\"1\" class=\"dataframe\">\n",
              "  <thead>\n",
              "    <tr style=\"text-align: right;\">\n",
              "      <th></th>\n",
              "      <th>InvoiceNo</th>\n",
              "      <th>StockCode</th>\n",
              "      <th>Description</th>\n",
              "      <th>Quantity</th>\n",
              "      <th>InvoiceDate</th>\n",
              "      <th>UnitPrice</th>\n",
              "      <th>CustomerID</th>\n",
              "      <th>Country</th>\n",
              "      <th>CancelledQuantity</th>\n",
              "    </tr>\n",
              "  </thead>\n",
              "  <tbody>\n",
              "    <tr>\n",
              "      <th>77598</th>\n",
              "      <td>C542742</td>\n",
              "      <td>84535B</td>\n",
              "      <td>FAIRY CAKES NOTEBOOK A6 SIZE</td>\n",
              "      <td>-94</td>\n",
              "      <td>2011-01-31 16:26:00</td>\n",
              "      <td>0.65</td>\n",
              "      <td>15358</td>\n",
              "      <td>United Kingdom</td>\n",
              "      <td>0</td>\n",
              "    </tr>\n",
              "    <tr>\n",
              "      <th>90444</th>\n",
              "      <td>C544038</td>\n",
              "      <td>22784</td>\n",
              "      <td>LANTERN CREAM GAZEBO</td>\n",
              "      <td>-4</td>\n",
              "      <td>2011-02-15 11:32:00</td>\n",
              "      <td>4.95</td>\n",
              "      <td>14659</td>\n",
              "      <td>United Kingdom</td>\n",
              "      <td>0</td>\n",
              "    </tr>\n",
              "    <tr>\n",
              "      <th>111968</th>\n",
              "      <td>C545852</td>\n",
              "      <td>22464</td>\n",
              "      <td>HANGING METAL HEART LANTERN</td>\n",
              "      <td>-5</td>\n",
              "      <td>2011-03-07 13:49:00</td>\n",
              "      <td>1.65</td>\n",
              "      <td>14048</td>\n",
              "      <td>United Kingdom</td>\n",
              "      <td>0</td>\n",
              "    </tr>\n",
              "    <tr>\n",
              "      <th>116064</th>\n",
              "      <td>C546191</td>\n",
              "      <td>47566B</td>\n",
              "      <td>TEA TIME PARTY BUNTING</td>\n",
              "      <td>-35</td>\n",
              "      <td>2011-03-10 10:57:00</td>\n",
              "      <td>0.70</td>\n",
              "      <td>16422</td>\n",
              "      <td>United Kingdom</td>\n",
              "      <td>0</td>\n",
              "    </tr>\n",
              "    <tr>\n",
              "      <th>132642</th>\n",
              "      <td>C547675</td>\n",
              "      <td>22263</td>\n",
              "      <td>FELT EGG COSY LADYBIRD</td>\n",
              "      <td>-49</td>\n",
              "      <td>2011-03-24 14:07:00</td>\n",
              "      <td>0.66</td>\n",
              "      <td>17754</td>\n",
              "      <td>United Kingdom</td>\n",
              "      <td>0</td>\n",
              "    </tr>\n",
              "  </tbody>\n",
              "</table>\n",
              "</div>"
            ],
            "text/plain": [
              "       InvoiceNo StockCode  ...         Country  CancelledQuantity\n",
              "77598    C542742    84535B  ...  United Kingdom                  0\n",
              "90444    C544038     22784  ...  United Kingdom                  0\n",
              "111968   C545852     22464  ...  United Kingdom                  0\n",
              "116064   C546191    47566B  ...  United Kingdom                  0\n",
              "132642   C547675     22263  ...  United Kingdom                  0\n",
              "\n",
              "[5 rows x 9 columns]"
            ]
          },
          "metadata": {
            "tags": []
          }
        }
      ]
    },
    {
      "cell_type": "markdown",
      "metadata": {
        "tags": [],
        "id": "ultimate-course"
      },
      "source": [
        "##### Cancelled Orders that are discounts and don't belong to any other invoice"
      ],
      "id": "ultimate-course"
    },
    {
      "cell_type": "code",
      "metadata": {
        "tags": [],
        "colab": {
          "base_uri": "https://localhost:8080/",
          "height": 219
        },
        "id": "political-classroom",
        "outputId": "57ac242a-35f1-4a53-cfc4-071253b5c62d"
      },
      "source": [
        "# cancelled entries that are discounts and don't belong to any invoice (not sure if we should drop these...)\n",
        "remaining_entries = retail_clean[retail_clean['Quantity'] < 0 & retail_clean['InvoiceNo'].str.contains('^[a-zA-Z]+', regex = True)]\n",
        "print('entries to delete: {}'.format(remaining_entries.shape[0]))\n",
        "\n",
        "#\n",
        "display(remaining_entries[:5])\n",
        "\n",
        "# drop these entries too\n",
        "retail_clean.drop(remaining_entries.index, axis = 0, inplace = True)"
      ],
      "id": "political-classroom",
      "execution_count": 40,
      "outputs": [
        {
          "output_type": "stream",
          "text": [
            "entries to delete: 77\n"
          ],
          "name": "stdout"
        },
        {
          "output_type": "display_data",
          "data": {
            "text/html": [
              "<div>\n",
              "<style scoped>\n",
              "    .dataframe tbody tr th:only-of-type {\n",
              "        vertical-align: middle;\n",
              "    }\n",
              "\n",
              "    .dataframe tbody tr th {\n",
              "        vertical-align: top;\n",
              "    }\n",
              "\n",
              "    .dataframe thead th {\n",
              "        text-align: right;\n",
              "    }\n",
              "</style>\n",
              "<table border=\"1\" class=\"dataframe\">\n",
              "  <thead>\n",
              "    <tr style=\"text-align: right;\">\n",
              "      <th></th>\n",
              "      <th>InvoiceNo</th>\n",
              "      <th>StockCode</th>\n",
              "      <th>Description</th>\n",
              "      <th>Quantity</th>\n",
              "      <th>InvoiceDate</th>\n",
              "      <th>UnitPrice</th>\n",
              "      <th>CustomerID</th>\n",
              "      <th>Country</th>\n",
              "      <th>CancelledQuantity</th>\n",
              "    </tr>\n",
              "  </thead>\n",
              "  <tbody>\n",
              "    <tr>\n",
              "      <th>141</th>\n",
              "      <td>C536379</td>\n",
              "      <td>D</td>\n",
              "      <td>Discount</td>\n",
              "      <td>-1</td>\n",
              "      <td>2010-12-01 09:41:00</td>\n",
              "      <td>27.50</td>\n",
              "      <td>14527</td>\n",
              "      <td>United Kingdom</td>\n",
              "      <td>0</td>\n",
              "    </tr>\n",
              "    <tr>\n",
              "      <th>9038</th>\n",
              "      <td>C537164</td>\n",
              "      <td>D</td>\n",
              "      <td>Discount</td>\n",
              "      <td>-1</td>\n",
              "      <td>2010-12-05 13:21:00</td>\n",
              "      <td>29.29</td>\n",
              "      <td>14527</td>\n",
              "      <td>United Kingdom</td>\n",
              "      <td>0</td>\n",
              "    </tr>\n",
              "    <tr>\n",
              "      <th>14498</th>\n",
              "      <td>C537597</td>\n",
              "      <td>D</td>\n",
              "      <td>Discount</td>\n",
              "      <td>-1</td>\n",
              "      <td>2010-12-07 12:34:00</td>\n",
              "      <td>281.00</td>\n",
              "      <td>15498</td>\n",
              "      <td>United Kingdom</td>\n",
              "      <td>0</td>\n",
              "    </tr>\n",
              "    <tr>\n",
              "      <th>19392</th>\n",
              "      <td>C537857</td>\n",
              "      <td>D</td>\n",
              "      <td>Discount</td>\n",
              "      <td>-1</td>\n",
              "      <td>2010-12-08 16:00:00</td>\n",
              "      <td>267.12</td>\n",
              "      <td>17340</td>\n",
              "      <td>United Kingdom</td>\n",
              "      <td>0</td>\n",
              "    </tr>\n",
              "    <tr>\n",
              "      <th>31134</th>\n",
              "      <td>C538897</td>\n",
              "      <td>D</td>\n",
              "      <td>Discount</td>\n",
              "      <td>-1</td>\n",
              "      <td>2010-12-15 09:14:00</td>\n",
              "      <td>5.76</td>\n",
              "      <td>16422</td>\n",
              "      <td>United Kingdom</td>\n",
              "      <td>0</td>\n",
              "    </tr>\n",
              "  </tbody>\n",
              "</table>\n",
              "</div>"
            ],
            "text/plain": [
              "      InvoiceNo StockCode  ...         Country  CancelledQuantity\n",
              "141     C536379         D  ...  United Kingdom                  0\n",
              "9038    C537164         D  ...  United Kingdom                  0\n",
              "14498   C537597         D  ...  United Kingdom                  0\n",
              "19392   C537857         D  ...  United Kingdom                  0\n",
              "31134   C538897         D  ...  United Kingdom                  0\n",
              "\n",
              "[5 rows x 9 columns]"
            ]
          },
          "metadata": {
            "tags": []
          }
        }
      ]
    },
    {
      "cell_type": "markdown",
      "metadata": {
        "id": "amateur-diversity"
      },
      "source": [
        "#### Check-point Inspection"
      ],
      "id": "amateur-diversity"
    },
    {
      "cell_type": "markdown",
      "metadata": {
        "tags": [],
        "id": "dried-teens"
      },
      "source": [
        "##### Total Price of Purchases"
      ],
      "id": "dried-teens"
    },
    {
      "cell_type": "code",
      "metadata": {
        "tags": [],
        "colab": {
          "base_uri": "https://localhost:8080/",
          "height": 289
        },
        "id": "mobile-moscow",
        "outputId": "11261bca-1711-423e-9b45-1e6512673fea"
      },
      "source": [
        "# Calc true total price of purchase\n",
        "# Add a TotalPrice column\n",
        "retail_clean['TotalPrice'] = retail_clean['UnitPrice'] * (retail_clean['Quantity'] - retail_clean['CancelledQuantity'])\n",
        "retail_clean.sort_values('CustomerID')[:5]"
      ],
      "id": "mobile-moscow",
      "execution_count": 41,
      "outputs": [
        {
          "output_type": "execute_result",
          "data": {
            "text/html": [
              "<div>\n",
              "<style scoped>\n",
              "    .dataframe tbody tr th:only-of-type {\n",
              "        vertical-align: middle;\n",
              "    }\n",
              "\n",
              "    .dataframe tbody tr th {\n",
              "        vertical-align: top;\n",
              "    }\n",
              "\n",
              "    .dataframe thead th {\n",
              "        text-align: right;\n",
              "    }\n",
              "</style>\n",
              "<table border=\"1\" class=\"dataframe\">\n",
              "  <thead>\n",
              "    <tr style=\"text-align: right;\">\n",
              "      <th></th>\n",
              "      <th>InvoiceNo</th>\n",
              "      <th>StockCode</th>\n",
              "      <th>Description</th>\n",
              "      <th>Quantity</th>\n",
              "      <th>InvoiceDate</th>\n",
              "      <th>UnitPrice</th>\n",
              "      <th>CustomerID</th>\n",
              "      <th>Country</th>\n",
              "      <th>CancelledQuantity</th>\n",
              "      <th>TotalPrice</th>\n",
              "    </tr>\n",
              "  </thead>\n",
              "  <tbody>\n",
              "    <tr>\n",
              "      <th>429003</th>\n",
              "      <td>573511</td>\n",
              "      <td>22131</td>\n",
              "      <td>FOOD CONTAINER SET 3 LOVE HEART</td>\n",
              "      <td>6</td>\n",
              "      <td>2011-10-31 12:25:00</td>\n",
              "      <td>1.95</td>\n",
              "      <td>12347</td>\n",
              "      <td>Iceland</td>\n",
              "      <td>0</td>\n",
              "      <td>11.70</td>\n",
              "    </tr>\n",
              "    <tr>\n",
              "      <th>428957</th>\n",
              "      <td>573511</td>\n",
              "      <td>23480</td>\n",
              "      <td>MINI LIGHTS WOODLAND MUSHROOMS</td>\n",
              "      <td>12</td>\n",
              "      <td>2011-10-31 12:25:00</td>\n",
              "      <td>3.75</td>\n",
              "      <td>12347</td>\n",
              "      <td>Iceland</td>\n",
              "      <td>0</td>\n",
              "      <td>45.00</td>\n",
              "    </tr>\n",
              "    <tr>\n",
              "      <th>535014</th>\n",
              "      <td>581180</td>\n",
              "      <td>23508</td>\n",
              "      <td>MINI PLAYING CARDS DOLLY GIRL</td>\n",
              "      <td>20</td>\n",
              "      <td>2011-12-07 15:52:00</td>\n",
              "      <td>0.42</td>\n",
              "      <td>12347</td>\n",
              "      <td>Iceland</td>\n",
              "      <td>0</td>\n",
              "      <td>8.40</td>\n",
              "    </tr>\n",
              "    <tr>\n",
              "      <th>535013</th>\n",
              "      <td>581180</td>\n",
              "      <td>23506</td>\n",
              "      <td>MINI PLAYING CARDS SPACEBOY</td>\n",
              "      <td>20</td>\n",
              "      <td>2011-12-07 15:52:00</td>\n",
              "      <td>0.42</td>\n",
              "      <td>12347</td>\n",
              "      <td>Iceland</td>\n",
              "      <td>0</td>\n",
              "      <td>8.40</td>\n",
              "    </tr>\n",
              "    <tr>\n",
              "      <th>535012</th>\n",
              "      <td>581180</td>\n",
              "      <td>23271</td>\n",
              "      <td>CHRISTMAS TABLE SILVER CANDLE SPIKE</td>\n",
              "      <td>16</td>\n",
              "      <td>2011-12-07 15:52:00</td>\n",
              "      <td>0.83</td>\n",
              "      <td>12347</td>\n",
              "      <td>Iceland</td>\n",
              "      <td>0</td>\n",
              "      <td>13.28</td>\n",
              "    </tr>\n",
              "  </tbody>\n",
              "</table>\n",
              "</div>"
            ],
            "text/plain": [
              "       InvoiceNo StockCode  ... CancelledQuantity  TotalPrice\n",
              "429003    573511     22131  ...                 0       11.70\n",
              "428957    573511     23480  ...                 0       45.00\n",
              "535014    581180     23508  ...                 0        8.40\n",
              "535013    581180     23506  ...                 0        8.40\n",
              "535012    581180     23271  ...                 0       13.28\n",
              "\n",
              "[5 rows x 10 columns]"
            ]
          },
          "metadata": {
            "tags": []
          },
          "execution_count": 41
        }
      ]
    },
    {
      "cell_type": "markdown",
      "metadata": {
        "tags": [],
        "id": "wanted-employer"
      },
      "source": [
        "**Drop Negative Entries**"
      ],
      "id": "wanted-employer"
    },
    {
      "cell_type": "code",
      "metadata": {
        "tags": [],
        "colab": {
          "base_uri": "https://localhost:8080/"
        },
        "id": "three-swaziland",
        "outputId": "95f36313-1279-4b65-a54b-7584973f9cdb"
      },
      "source": [
        "# look for entries that are negative and drop them\n",
        "print('{} Negative entries to drop.'.format(len(retail_clean[retail_clean['TotalPrice'] < 0].index)))\n",
        "retail_clean.drop(retail_clean[retail_clean['TotalPrice'] < 0].index, axis = 0, inplace = True)"
      ],
      "id": "three-swaziland",
      "execution_count": 42,
      "outputs": [
        {
          "output_type": "stream",
          "text": [
            "38 Negative entries to drop.\n"
          ],
          "name": "stdout"
        }
      ]
    },
    {
      "cell_type": "markdown",
      "metadata": {
        "id": "quarterly-thunder"
      },
      "source": [
        "**Possibly Non-contributing Stock Codes**"
      ],
      "id": "quarterly-thunder"
    },
    {
      "cell_type": "code",
      "metadata": {
        "tags": [],
        "colab": {
          "base_uri": "https://localhost:8080/",
          "height": 139
        },
        "id": "proprietary-camel",
        "outputId": "20e6eb98-c2e8-4c10-d0b3-cfec83ecfe75"
      },
      "source": [
        "# get list of stock codes\n",
        "stock_code_list = retail_clean[retail_clean['StockCode'].str.contains('^[a-zA-Z]+', regex = True) == True]['StockCode'].unique()\n",
        "display(stock_code_list)\n",
        "#\n",
        "for code in stock_code_list:\n",
        "    print(\"{:<15} -> {:<30}\".format(code, retail_clean[retail_clean['StockCode'] == code]['Description'].unique()[0]))"
      ],
      "id": "proprietary-camel",
      "execution_count": 43,
      "outputs": [
        {
          "output_type": "display_data",
          "data": {
            "text/plain": [
              "array(['POST', 'C2', 'M', 'BANK CHARGES', 'PADS', 'DOT'], dtype=object)"
            ]
          },
          "metadata": {
            "tags": []
          }
        },
        {
          "output_type": "stream",
          "text": [
            "POST            -> POSTAGE                       \n",
            "C2              -> CARRIAGE                      \n",
            "M               -> Manual                        \n",
            "BANK CHARGES    -> Bank Charges                  \n",
            "PADS            -> PADS TO MATCH ALL CUSHIONS    \n",
            "DOT             -> DOTCOM POSTAGE                \n"
          ],
          "name": "stdout"
        }
      ]
    },
    {
      "cell_type": "markdown",
      "metadata": {
        "id": "virgin-wrapping"
      },
      "source": [
        "**Stock Codes with quantity < 0**"
      ],
      "id": "virgin-wrapping"
    },
    {
      "cell_type": "code",
      "metadata": {
        "id": "decreased-identification"
      },
      "source": [
        "# check for stock codes with quantity < 0 and if stockcode has alpha chars\n",
        "# get list of stock codes\n",
        "#check_stock_code_list = retail_clean[retail_clean['Quantity'] <= 0 & retail_clean['StockCode'].str.contains('^[a-zA-Z]+', regex = True)]['StockCode'].unique()\n",
        "check_stock_code_list = retail_clean[retail_clean['Quantity'] <= 0]['StockCode'].unique()\n",
        "display(check_stock_code_list)\n",
        "#\n",
        "for code in check_stock_code_list:\n",
        "    print(\"{:<15} -> {:<30}\".format(code, retail_clean[retail_clean['StockCode'] == code]['Description'].unique()[0]))"
      ],
      "id": "decreased-identification",
      "execution_count": null,
      "outputs": []
    },
    {
      "cell_type": "markdown",
      "metadata": {
        "id": "alternate-sister"
      },
      "source": [
        "**Total Cart Price**"
      ],
      "id": "alternate-sister"
    },
    {
      "cell_type": "code",
      "metadata": {
        "id": "solar-forward"
      },
      "source": [
        "# Purchase total by CustomerID, InvoiceNo\n",
        "tmp = retail_clean.groupby(by=['CustomerID', 'InvoiceNo'], as_index=False)['TotalPrice'].sum()\n",
        "cart_price = tmp.rename(columns = {'TotalPrice':'Cart Price'})\n",
        "\n",
        "# Add/Fill purchase dates\n",
        "retail_clean['InvoiceDate_int'] = retail_clean['InvoiceDate'].astype('int64')\n",
        "tmp = retail_clean.groupby(by=['CustomerID', 'InvoiceNo'], as_index=False)['InvoiceDate_int'].mean()\n",
        "retail_clean.drop('InvoiceDate_int', axis = 1, inplace = True)\n",
        "cart_price.loc[:, 'InvoiceDate'] = pd.to_datetime(tmp['InvoiceDate_int'])\n",
        "\n",
        "# Only purchases with positive net value\n",
        "cart_price = cart_price[cart_price['Cart Price'] > 0]\n",
        "cart_price.sort_values('CustomerID')[:6]"
      ],
      "id": "solar-forward",
      "execution_count": null,
      "outputs": []
    },
    {
      "cell_type": "markdown",
      "metadata": {
        "id": "loving-ensemble"
      },
      "source": [
        "**Check Total Price < 0**"
      ],
      "id": "loving-ensemble"
    },
    {
      "cell_type": "code",
      "metadata": {
        "colab": {
          "base_uri": "https://localhost:8080/",
          "height": 49
        },
        "id": "important-canvas",
        "outputId": "3c0a2120-b507-4e11-d21e-2b470ba28c09"
      },
      "source": [
        "#retail_clean[retail_clean['InvoiceNo'] == '573077']\n",
        "retail_clean[retail_clean['TotalPrice'] < 0]\n",
        "#retail_clean[retail_clean.index.isin(mismatched_suspect_orders)]"
      ],
      "id": "important-canvas",
      "execution_count": 44,
      "outputs": [
        {
          "output_type": "execute_result",
          "data": {
            "text/html": [
              "<div>\n",
              "<style scoped>\n",
              "    .dataframe tbody tr th:only-of-type {\n",
              "        vertical-align: middle;\n",
              "    }\n",
              "\n",
              "    .dataframe tbody tr th {\n",
              "        vertical-align: top;\n",
              "    }\n",
              "\n",
              "    .dataframe thead th {\n",
              "        text-align: right;\n",
              "    }\n",
              "</style>\n",
              "<table border=\"1\" class=\"dataframe\">\n",
              "  <thead>\n",
              "    <tr style=\"text-align: right;\">\n",
              "      <th></th>\n",
              "      <th>InvoiceNo</th>\n",
              "      <th>StockCode</th>\n",
              "      <th>Description</th>\n",
              "      <th>Quantity</th>\n",
              "      <th>InvoiceDate</th>\n",
              "      <th>UnitPrice</th>\n",
              "      <th>CustomerID</th>\n",
              "      <th>Country</th>\n",
              "      <th>CancelledQuantity</th>\n",
              "      <th>TotalPrice</th>\n",
              "    </tr>\n",
              "  </thead>\n",
              "  <tbody>\n",
              "  </tbody>\n",
              "</table>\n",
              "</div>"
            ],
            "text/plain": [
              "Empty DataFrame\n",
              "Columns: [InvoiceNo, StockCode, Description, Quantity, InvoiceDate, UnitPrice, CustomerID, Country, CancelledQuantity, TotalPrice]\n",
              "Index: []"
            ]
          },
          "metadata": {
            "tags": []
          },
          "execution_count": 44
        }
      ]
    },
    {
      "cell_type": "code",
      "metadata": {
        "colab": {
          "base_uri": "https://localhost:8080/",
          "height": 429
        },
        "id": "global-cement",
        "outputId": "fb8874eb-6ac6-4515-c9e0-7e5525880732"
      },
      "source": [
        "display_info(retail_clean)\n"
      ],
      "id": "global-cement",
      "execution_count": 47,
      "outputs": [
        {
          "output_type": "display_data",
          "data": {
            "text/html": [
              "<div>\n",
              "<style scoped>\n",
              "    .dataframe tbody tr th:only-of-type {\n",
              "        vertical-align: middle;\n",
              "    }\n",
              "\n",
              "    .dataframe tbody tr th {\n",
              "        vertical-align: top;\n",
              "    }\n",
              "\n",
              "    .dataframe thead th {\n",
              "        text-align: right;\n",
              "    }\n",
              "</style>\n",
              "<table border=\"1\" class=\"dataframe\">\n",
              "  <thead>\n",
              "    <tr style=\"text-align: right;\">\n",
              "      <th></th>\n",
              "      <th>InvoiceNo</th>\n",
              "      <th>StockCode</th>\n",
              "      <th>Description</th>\n",
              "      <th>Quantity</th>\n",
              "      <th>InvoiceDate</th>\n",
              "      <th>UnitPrice</th>\n",
              "      <th>CustomerID</th>\n",
              "      <th>Country</th>\n",
              "      <th>CancelledQuantity</th>\n",
              "      <th>TotalPrice</th>\n",
              "    </tr>\n",
              "  </thead>\n",
              "  <tbody>\n",
              "    <tr>\n",
              "      <th>column type</th>\n",
              "      <td>object</td>\n",
              "      <td>object</td>\n",
              "      <td>object</td>\n",
              "      <td>int64</td>\n",
              "      <td>datetime64[ns]</td>\n",
              "      <td>float64</td>\n",
              "      <td>object</td>\n",
              "      <td>object</td>\n",
              "      <td>int64</td>\n",
              "      <td>float64</td>\n",
              "    </tr>\n",
              "    <tr>\n",
              "      <th>null values (nb)</th>\n",
              "      <td>0</td>\n",
              "      <td>0</td>\n",
              "      <td>0</td>\n",
              "      <td>0</td>\n",
              "      <td>0</td>\n",
              "      <td>0</td>\n",
              "      <td>0</td>\n",
              "      <td>0</td>\n",
              "      <td>0</td>\n",
              "      <td>0</td>\n",
              "    </tr>\n",
              "    <tr>\n",
              "      <th>null values (%)</th>\n",
              "      <td>0</td>\n",
              "      <td>0</td>\n",
              "      <td>0</td>\n",
              "      <td>0</td>\n",
              "      <td>0</td>\n",
              "      <td>0</td>\n",
              "      <td>0</td>\n",
              "      <td>0</td>\n",
              "      <td>0</td>\n",
              "      <td>0</td>\n",
              "    </tr>\n",
              "  </tbody>\n",
              "</table>\n",
              "</div>"
            ],
            "text/plain": [
              "                 InvoiceNo StockCode  ... CancelledQuantity TotalPrice\n",
              "column type         object    object  ...             int64    float64\n",
              "null values (nb)         0         0  ...                 0          0\n",
              "null values (%)          0         0  ...                 0          0\n",
              "\n",
              "[3 rows x 10 columns]"
            ]
          },
          "metadata": {
            "tags": []
          }
        },
        {
          "output_type": "display_data",
          "data": {
            "text/html": [
              "<div>\n",
              "<style scoped>\n",
              "    .dataframe tbody tr th:only-of-type {\n",
              "        vertical-align: middle;\n",
              "    }\n",
              "\n",
              "    .dataframe tbody tr th {\n",
              "        vertical-align: top;\n",
              "    }\n",
              "\n",
              "    .dataframe thead th {\n",
              "        text-align: right;\n",
              "    }\n",
              "</style>\n",
              "<table border=\"1\" class=\"dataframe\">\n",
              "  <thead>\n",
              "    <tr style=\"text-align: right;\">\n",
              "      <th></th>\n",
              "      <th>InvoiceNo</th>\n",
              "      <th>StockCode</th>\n",
              "      <th>Description</th>\n",
              "      <th>Quantity</th>\n",
              "      <th>InvoiceDate</th>\n",
              "      <th>UnitPrice</th>\n",
              "      <th>CustomerID</th>\n",
              "      <th>Country</th>\n",
              "      <th>CancelledQuantity</th>\n",
              "      <th>TotalPrice</th>\n",
              "    </tr>\n",
              "  </thead>\n",
              "  <tbody>\n",
              "    <tr>\n",
              "      <th>427093</th>\n",
              "      <td>573375</td>\n",
              "      <td>23255</td>\n",
              "      <td>CHILDRENS CUTLERY CIRCUS PARADE</td>\n",
              "      <td>4</td>\n",
              "      <td>2011-10-30 13:42:00</td>\n",
              "      <td>4.15</td>\n",
              "      <td>15521</td>\n",
              "      <td>United Kingdom</td>\n",
              "      <td>0</td>\n",
              "      <td>16.60</td>\n",
              "    </tr>\n",
              "    <tr>\n",
              "      <th>502941</th>\n",
              "      <td>578854</td>\n",
              "      <td>22411</td>\n",
              "      <td>JUMBO SHOPPER VINTAGE RED PAISLEY</td>\n",
              "      <td>10</td>\n",
              "      <td>2011-11-27 11:15:00</td>\n",
              "      <td>2.08</td>\n",
              "      <td>14859</td>\n",
              "      <td>United Kingdom</td>\n",
              "      <td>0</td>\n",
              "      <td>20.80</td>\n",
              "    </tr>\n",
              "    <tr>\n",
              "      <th>328481</th>\n",
              "      <td>565779</td>\n",
              "      <td>22727</td>\n",
              "      <td>ALARM CLOCK BAKELIKE RED</td>\n",
              "      <td>4</td>\n",
              "      <td>2011-09-06 15:14:00</td>\n",
              "      <td>3.75</td>\n",
              "      <td>15804</td>\n",
              "      <td>United Kingdom</td>\n",
              "      <td>0</td>\n",
              "      <td>15.00</td>\n",
              "    </tr>\n",
              "    <tr>\n",
              "      <th>131738</th>\n",
              "      <td>547623</td>\n",
              "      <td>22979</td>\n",
              "      <td>PANTRY WASHING UP BRUSH</td>\n",
              "      <td>12</td>\n",
              "      <td>2011-03-24 11:29:00</td>\n",
              "      <td>1.45</td>\n",
              "      <td>15641</td>\n",
              "      <td>United Kingdom</td>\n",
              "      <td>0</td>\n",
              "      <td>17.40</td>\n",
              "    </tr>\n",
              "    <tr>\n",
              "      <th>229729</th>\n",
              "      <td>557109</td>\n",
              "      <td>21137</td>\n",
              "      <td>BLACK RECORD COVER FRAME</td>\n",
              "      <td>72</td>\n",
              "      <td>2011-06-16 16:06:00</td>\n",
              "      <td>3.39</td>\n",
              "      <td>15694</td>\n",
              "      <td>United Kingdom</td>\n",
              "      <td>0</td>\n",
              "      <td>244.08</td>\n",
              "    </tr>\n",
              "  </tbody>\n",
              "</table>\n",
              "</div>"
            ],
            "text/plain": [
              "       InvoiceNo StockCode  ... CancelledQuantity  TotalPrice\n",
              "427093    573375     23255  ...                 0       16.60\n",
              "502941    578854     22411  ...                 0       20.80\n",
              "328481    565779     22727  ...                 0       15.00\n",
              "131738    547623     22979  ...                 0       17.40\n",
              "229729    557109     21137  ...                 0      244.08\n",
              "\n",
              "[5 rows x 10 columns]"
            ]
          },
          "metadata": {
            "tags": []
          }
        },
        {
          "output_type": "stream",
          "text": [
            "(390453, 10)\n"
          ],
          "name": "stdout"
        }
      ]
    },
    {
      "cell_type": "markdown",
      "metadata": {
        "id": "other-drawing"
      },
      "source": [
        "##### Save"
      ],
      "id": "other-drawing"
    },
    {
      "cell_type": "code",
      "metadata": {
        "id": "driving-cycle"
      },
      "source": [
        "writer = pd.ExcelWriter('online_retail_normalized.xlsx', engine='xlsxwriter')\n",
        "retail_clean.to_excel(writer, sheet_name='Sheet1', index = False)\n",
        "writer.save()"
      ],
      "id": "driving-cycle",
      "execution_count": 52,
      "outputs": []
    }
  ]
}